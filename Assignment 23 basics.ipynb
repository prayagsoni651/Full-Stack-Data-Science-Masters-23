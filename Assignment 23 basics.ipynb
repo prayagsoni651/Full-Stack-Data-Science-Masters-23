{
 "cells": [
  {
   "cell_type": "code",
   "execution_count": 1,
   "id": "708c3fda",
   "metadata": {},
   "outputs": [
    {
     "name": "stdout",
     "output_type": "stream",
     "text": [
      "1 2 8\n"
     ]
    }
   ],
   "source": [
    "'''\n",
    "what is the result of the code , and why ?\n",
    "\n",
    "def func(a , b = 6 , c = 8):\n",
    "   print(a , b , c)\n",
    "   \n",
    "func(1 , 2)\n",
    "\n",
    "'''\n",
    "def func(a , b = 6 , c = 8):\n",
    "   print(a , b , c)\n",
    "   \n",
    "func(1 , 2)"
   ]
  },
  {
   "cell_type": "code",
   "execution_count": 3,
   "id": "8fabcf6e",
   "metadata": {},
   "outputs": [
    {
     "name": "stdout",
     "output_type": "stream",
     "text": [
      "1 2 3\n"
     ]
    }
   ],
   "source": [
    "'''\n",
    "2. what is the result of this code , and why ?\n",
    "\n",
    "def func(a, b , c = 5):\n",
    "   print(a, b , c)\n",
    "   \n",
    "func(1 , c = 3 , b = 2)\n",
    "\n",
    "'''\n",
    "def func(a, b , c = 5):\n",
    "   print(a, b , c)\n",
    "   \n",
    "func(1 , c = 3 , b = 2)"
   ]
  },
  {
   "cell_type": "code",
   "execution_count": 5,
   "id": "da537301",
   "metadata": {},
   "outputs": [
    {
     "name": "stdout",
     "output_type": "stream",
     "text": [
      "1 {'c': 3, 'b': 2}\n"
     ]
    }
   ],
   "source": [
    "'''\n",
    "How about this code: what is its result , and why?\n",
    "\n",
    "def func(a , **kwargs):\n",
    "   print(a , kwargs)\n",
    "   \n",
    "func(a = 1 , c = 3 , b =2)\n",
    "\n",
    "'''\n",
    "\n",
    "\n",
    "def func(a , **kwargs):\n",
    "   print(a , kwargs)\n",
    "   \n",
    "func(a = 1 , c = 3 , b =2)"
   ]
  },
  {
   "cell_type": "code",
   "execution_count": 7,
   "id": "23769bcb",
   "metadata": {},
   "outputs": [
    {
     "name": "stdout",
     "output_type": "stream",
     "text": [
      "1 5 6 5\n"
     ]
    }
   ],
   "source": [
    "\"\"\"\n",
    "whta gets printed by this , and explain?\n",
    "\n",
    "def func(a , b , c = 8 , d= 5):print(a , b , c , d)\n",
    "func(1 ,*(5,6))\n",
    "\n",
    "\"\"\"\n",
    "\n",
    "def func(a , b , c = 8 , d= 5):print(a , b , c , d)\n",
    "func(1 ,*(5,6))"
   ]
  },
  {
   "cell_type": "code",
   "execution_count": 9,
   "id": "1da6ed5b",
   "metadata": {},
   "outputs": [],
   "source": [
    "\"\"\"\n",
    "what is the result of this code and explain?\n",
    "\n",
    "def func(a , b , c):a = 2;b[0]='x';c['a']='y'\n",
    "l = 1;m=[1];n={'a':0}\n",
    "func(l,m,n)\n",
    "\n",
    "\"\"\"\n",
    "\n",
    "\n",
    "def func(a , b , c):a = 2;b[0]='x';c['a']='y'\n",
    "l = 1;m=[1];n={'a':0}\n",
    "func(l,m,n)"
   ]
  },
  {
   "cell_type": "code",
   "execution_count": 13,
   "id": "8b6153fa",
   "metadata": {},
   "outputs": [
    {
     "name": "stdout",
     "output_type": "stream",
     "text": [
      "1 (2, 3)\n"
     ]
    }
   ],
   "source": [
    "\"\"\"\n",
    "how about this code : what is its result , and why?\n",
    "\n",
    "def func(a , *pargs):\n",
    "   print(a , pargs)\n",
    "\n",
    "\"\"\"\n",
    "\n",
    "\n",
    "def func(a , *pargs):\n",
    "    print(a , pargs)\n",
    "    \n",
    "func(1 , 2, 3)"
   ]
  },
  {
   "cell_type": "code",
   "execution_count": null,
   "id": "86eeba33",
   "metadata": {},
   "outputs": [],
   "source": []
  }
 ],
 "metadata": {
  "kernelspec": {
   "display_name": "Python 3 (ipykernel)",
   "language": "python",
   "name": "python3"
  },
  "language_info": {
   "codemirror_mode": {
    "name": "ipython",
    "version": 3
   },
   "file_extension": ".py",
   "mimetype": "text/x-python",
   "name": "python",
   "nbconvert_exporter": "python",
   "pygments_lexer": "ipython3",
   "version": "3.11.5"
  }
 },
 "nbformat": 4,
 "nbformat_minor": 5
}
